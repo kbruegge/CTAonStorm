{
 "cells": [
  {
   "cell_type": "markdown",
   "metadata": {},
   "source": [
    "# Some Speed Measurements and things\n",
    "\n",
    "Start by importing some things and preparing some data to be analysed.\n",
    "We load the instrument definiton from a pickled file. simply because we can. It could be read from the simtel file as well. But this is how its done during exection on storm as well."
   ]
  },
  {
   "cell_type": "code",
   "execution_count": 4,
   "metadata": {
    "collapsed": false
   },
   "outputs": [],
   "source": [
    "import pickle\n",
    "import gzip\n",
    "import os\n",
    "from ctapipe.io import CameraGeometry"
   ]
  },
  {
   "cell_type": "code",
   "execution_count": 5,
   "metadata": {
    "collapsed": false
   },
   "outputs": [],
   "source": [
    "WORKING_DIR='./src/'\n",
    "\n",
    "def load_instrument():\n",
    "    import os\n",
    "    p = os.path.join(WORKING_DIR, 'bundled_files', 'instrument.pickle.gz')\n",
    "    with gzip.open(p, 'rb') as f:\n",
    "        return pickle.load(f)\n",
    "\n",
    "c = load_instrument()\n",
    "\n",
    "tel_id = 38\n",
    "pix_x = c.pixel_pos[int(tel_id)][0]\n",
    "pix_y = c.pixel_pos[int(tel_id)][1]\n",
    "foc = c.optical_foclen[int(tel_id)]\n",
    "\n",
    "cam_geom = CameraGeometry.guess(optical_foclen=foc, pix_x=pix_x, pix_y=pix_y)"
   ]
  },
  {
   "cell_type": "markdown",
   "metadata": {},
   "source": [
    "Now use timeit to measure how long it takes to guess camera geometry.\n",
    "If this takes too long it ould be chached somehow. the simplest solution could involve a lru_cache directive somewhere"
   ]
  },
  {
   "cell_type": "code",
   "execution_count": 6,
   "metadata": {
    "collapsed": false
   },
   "outputs": [
    {
     "name": "stdout",
     "output_type": "stream",
     "text": [
      "10 loops, best of 3: 84.1 ms per loop\n"
     ]
    }
   ],
   "source": [
    "%timeit CameraGeometry.guess(optical_foclen=foc, pix_x=pix_x, pix_y=pix_y)"
   ]
  },
  {
   "cell_type": "markdown",
   "metadata": {},
   "source": [
    "Use the lru_cache now. This will be much much faster probably"
   ]
  },
  {
   "cell_type": "code",
   "execution_count": 7,
   "metadata": {
    "collapsed": true
   },
   "outputs": [],
   "source": [
    "from functools import lru_cache\n",
    "@lru_cache(maxsize=128)\n",
    "def get_cam_geom(tel_id):\n",
    "    pix_x = c.pixel_pos[int(tel_id)][0]\n",
    "    pix_y = c.pixel_pos[int(tel_id)][1]\n",
    "    foc = c.optical_foclen[int(tel_id)]\n",
    "    cam_geom = CameraGeometry.guess(pix_x, pix_y, foc)\n",
    "    return cam_geom"
   ]
  },
  {
   "cell_type": "code",
   "execution_count": 8,
   "metadata": {
    "collapsed": false
   },
   "outputs": [
    {
     "name": "stdout",
     "output_type": "stream",
     "text": [
      "The slowest run took 550450.13 times longer than the fastest. This could mean that an intermediate result is being cached.\n",
      "10000000 loops, best of 3: 145 ns per loop\n"
     ]
    }
   ],
   "source": [
    "%timeit get_cam_geom(38)"
   ]
  },
  {
   "cell_type": "markdown",
   "metadata": {},
   "source": [
    "Get an event and perform the tailcuts procedure on the ADC sums within the event."
   ]
  },
  {
   "cell_type": "code",
   "execution_count": 9,
   "metadata": {
    "collapsed": false
   },
   "outputs": [
    {
     "name": "stderr",
     "output_type": "stream",
     "text": [
      "WARNING: ErfaWarning: ERFA function \"taiutc\" yielded 1 of \"dubious year (Note 4)\" [astropy._erfa.core]\n"
     ]
    }
   ],
   "source": [
    "from ctapipe.image.cleaning import tailcuts_clean\n",
    "from ctapipe.io.hessio import hessio_event_source\n",
    "file_path = 'bundled_files/gamma_test.simtel.gz'\n",
    "source = hessio_event_source(os.path.join(WORKING_DIR, file_path), max_events=7)\n",
    "event = next(source)\n",
    "\n",
    "sums = event.dl0.tel[tel_id].adc_sums[0]"
   ]
  },
  {
   "cell_type": "code",
   "execution_count": 10,
   "metadata": {
    "collapsed": false
   },
   "outputs": [
    {
     "name": "stdout",
     "output_type": "stream",
     "text": [
      "100 loops, best of 3: 16.6 ms per loop\n"
     ]
    }
   ],
   "source": [
    "%timeit tailcuts_clean(cam_geom, sums, 1, picture_thresh=10., boundary_thresh=5.)"
   ]
  },
  {
   "cell_type": "markdown",
   "metadata": {},
   "source": [
    "Now perform hillas parametrization on the cleaned image"
   ]
  },
  {
   "cell_type": "code",
   "execution_count": 11,
   "metadata": {
    "collapsed": true
   },
   "outputs": [],
   "source": [
    "from ctapipe.image.hillas import hillas_parameters\n",
    "\n",
    "mask = tailcuts_clean(cam_geom, sums, 1, picture_thresh=10., boundary_thresh=5.)\n",
    "sums[mask == 0] = 0\n",
    "moments = hillas_parameters(cam_geom.pix_x, cam_geom.pix_y, sums)"
   ]
  },
  {
   "cell_type": "code",
   "execution_count": 12,
   "metadata": {
    "collapsed": false
   },
   "outputs": [
    {
     "name": "stdout",
     "output_type": "stream",
     "text": [
      "1000 loops, best of 3: 1.38 ms per loop\n"
     ]
    }
   ],
   "source": [
    "%timeit hillas_parameters(cam_geom.pix_x, cam_geom.pix_y, sums)"
   ]
  },
  {
   "cell_type": "markdown",
   "metadata": {},
   "source": [
    "Test the runtime of the geometric reconstruction thing."
   ]
  },
  {
   "cell_type": "code",
   "execution_count": null,
   "metadata": {
    "collapsed": true
   },
   "outputs": [],
   "source": [
    "\n",
    "\n"
   ]
  }
 ],
 "metadata": {
  "anaconda-cloud": {},
  "kernelspec": {
   "display_name": "Python [conda root]",
   "language": "python",
   "name": "conda-root-py"
  },
  "language_info": {
   "codemirror_mode": {
    "name": "ipython",
    "version": 3
   },
   "file_extension": ".py",
   "mimetype": "text/x-python",
   "name": "python",
   "nbconvert_exporter": "python",
   "pygments_lexer": "ipython3",
   "version": "3.5.2"
  }
 },
 "nbformat": 4,
 "nbformat_minor": 1
}
